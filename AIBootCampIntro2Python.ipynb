{
  "nbformat": 4,
  "nbformat_minor": 0,
  "metadata": {
    "colab": {
      "provenance": [],
      "toc_visible": true,
      "include_colab_link": true
    },
    "kernelspec": {
      "name": "python3",
      "display_name": "Python 3"
    }
  },
  "cells": [
    {
      "cell_type": "markdown",
      "metadata": {
        "id": "view-in-github",
        "colab_type": "text"
      },
      "source": [
        "<a href=\"https://colab.research.google.com/github/grettadarmstrong/github-slideshow/blob/master/AIBootCampIntro2Python.ipynb\" target=\"_parent\"><img src=\"https://colab.research.google.com/assets/colab-badge.svg\" alt=\"Open In Colab\"/></a>"
      ]
    },
    {
      "cell_type": "markdown",
      "metadata": {
        "id": "RsQFx2aTFoxW"
      },
      "source": [
        "# **APPLIED PYTHON 101**\n",
        "\n",
        "**Authors**: \n",
        "- Dr. Jany Chan, The Ohio State University\n",
        "- Dr. Chaitanya Kulkarni, The Ohio State University\n",
        "- Prof. Raghu Machiraju, The Ohio State University\n",
        "\n",
        "---\n",
        "\n",
        "## Context \n",
        "\n",
        "The material here was developed by the authors for a [professional masters course in data analytics](https://tdai.osu.edu/education/masters-translational-data-analytics). The enrolled students are often from all academic backgrounds. MDs, PharmDs, MBAs, etc. The goal of that program is to teach to **_data story telling_** in context.\n",
        "\n",
        "---\n",
        "\n",
        "## Objectives\n",
        "The main goal of this notebook is to extend and apply concepts covered in the prerequisite [Kaggle Python tutorial](https://www.kaggle.com/learn/python). If you have prior experience coding in Python, then you can skip straight to the exercises in **Part B**. If you are less familiar Python, we strongly suggest exploring each section below and running the provided example code blocks. **Focus on understanding why each line of code works and how the output can be changed**: you can add a new block using the \"+ Code\" button to test your own modifications.  \n",
        "\n",
        "**Learning to code in Python is similar to learning to speak a new language. It will take time and hands-on practice.** Googling unknown terms and phrases is a useful strategy to help you quickly find answers and debug errors. Sites like [StackOverflow](https://stackoverflow.com/), [Towards Data Science](https://towardsdatascience.com/), and [Kaggle](https://www.kaggle.com/) usually have high-quality posts and troubleshooting suggestions, especially related to data analysis and machine learning applications. \n",
        "\n",
        "Additionally, **We strongly encourage you to use the pertinent Scarlet Carmen pages to discuss problems and points of uncertainty**. If you're stuck on a problem, it's very likely that someone else in the course is having/had a similar issue.\n",
        "\n",
        "---\n",
        "\n",
        "**Note**: Additional (optional) background information is provided for you in the blue URLs.\n",
        "\n",
        "**Note**: Since you'll need to modify the code in this Colab Notebook, please make a copy of the Notebook for your use. Go to **File > Save a copy in Drive** and then work on that copy.\n",
        "\n",
        "---\n",
        "\n"
      ]
    },
    {
      "cell_type": "markdown",
      "metadata": {
        "id": "i6DFtUbaF6Et"
      },
      "source": [
        "# [S] Part A: Opening the black box: Data Structures to Functions\n",
        "## Motivating Question: What happens when we need to write our own code???\n",
        "Using pre-built packages is easy, but writing our own code from scratch can quickly become much more challenging. Here, we'll take a bottom up approach, starting with the primitive data structures and operators, then the built-in data structures, both of which form the foundation of Python code. This section is an application of the concepts covered in the Kaggle Python tutorial and requires a basic understanding of Python. Future modules will build upon the concepts highlighted here.\n",
        "\n",
        "\n",
        "---\n",
        "\n",
        "\n",
        "#### Organization of Python Code: Data Structures to Functions\n",
        "- Package or libraries\n",
        "- Modules\n",
        "- Classes\n",
        "- **Functions**: a reusable, modular workflow in Python code\n",
        "- **Scripts or code snippets**: single-use, simple code or code fragments\n",
        "- **Data Structures**\n",
        "  - **Primitive**\n",
        "  - **Non-primitive**\n",
        "\n",
        "\n",
        "---\n",
        "\n",
        "**Note**: Machine Learning requires humans (i.e. specifically us as data analysts) to **translate human-understandable data**, like words, images, and audio, **into machine-understandable formats**, such as data structures, numbers, and network graphs. This notebook focuses on several basic data transformations and manipulations that can occur in Python."
      ]
    },
    {
      "cell_type": "markdown",
      "metadata": {
        "id": "MTlom7srbPbI"
      },
      "source": [
        "## A.1 Quick Python review:\n",
        "\n",
        "You are probably familiar with the primitive data structures from R, which are very similar to the Python primitives: \n",
        "* integers\n",
        "* floats\n",
        "* strings\n",
        "* Boolean (`True` and `False`)\n",
        "* Special case: `None`\n",
        "\n"
      ]
    },
    {
      "cell_type": "code",
      "source": [
        "# Integers\n",
        "4\n",
        "4376\n",
        "\n",
        "# Floating-point numbers\n",
        "0.34\n",
        "1.1352476\n",
        "10.0\n",
        "\n",
        "# Strings\n",
        "'This is a string!'\n",
        "'a'\n",
        "'12 cats'\n",
        "'12334235624'\n",
        "\n",
        "# Boolean\n",
        "True\n",
        "False\n",
        "\n",
        "# Special Case\n",
        "None"
      ],
      "metadata": {
        "id": "4tFrwJCTlti-"
      },
      "execution_count": null,
      "outputs": []
    },
    {
      "cell_type": "markdown",
      "metadata": {
        "id": "K_vvCeikesaj"
      },
      "source": [
        "### A.1a Type Casting\n",
        "\n",
        "We can convert between some data representations using type casting. Check the data type using the function `type()`. \n",
        "\n",
        "**Note**: Excel data is notorious for mixing numerics and strings, which needs to be resolved prior to analysis."
      ]
    },
    {
      "cell_type": "code",
      "metadata": {
        "id": "nofqdro_Gi7G",
        "colab": {
          "base_uri": "https://localhost:8080/"
        },
        "outputId": "b5de757c-14a9-46a7-f692-521bcba736d8"
      },
      "source": [
        "x = 123\n",
        "y = '123'\n",
        "\n",
        "print(x, type(x))\n",
        "print(y, type(y))\n",
        "\n",
        "# Currently, Line 9 throws an error. Use type casting in Line 9 to resolve the\n",
        "# conflict; there are 2 expected answers: (1) 123123 and (2) 246.\n",
        "z = x + y\n",
        "print(z, type(z))\n",
        "\n"
      ],
      "execution_count": null,
      "outputs": [
        {
          "output_type": "stream",
          "name": "stdout",
          "text": [
            "123 <class 'int'>\n",
            "123 <class 'str'>\n"
          ]
        }
      ]
    },
    {
      "cell_type": "markdown",
      "metadata": {
        "id": "jt3o9HXOOGus"
      },
      "source": [
        "### A.1b Operators\n",
        "\n",
        "Basic Python operators fall into 7 categories: \n",
        "\n",
        "* Arithmetic Operators - `+`, `-`, etc.\n",
        "* Relational Operators - `!=` \"is not equal\", `==` \"is equal\", `<`, `<=`, etc.\n",
        "* Assignment Operators - `=`\n",
        "* Logical Operators - `and`, `or` are used to combine relational operations\n",
        "* Membership Operators - `in`, `not in` are used to check if A is in B\n",
        "* Identity Operators - `is`, `is not` checks if A and B are the same object\n",
        "* Bitwise Operators - (outside the scope of this course)\n",
        "\n",
        "\n",
        "---\n",
        "\n",
        "Python also uses a shortcut to perform arithmetic and assigment operations in one step, since this is a very common action when coding.\n",
        "\n",
        "\n",
        "\n",
        "![picture](https://drive.google.com/uc?id=16SFddjb55H_ugjkVvtcqASDsqxI1i_Up)"
      ]
    },
    {
      "cell_type": "code",
      "source": [
        "# Expressions are a combination of variables, values, and operators that can be\n",
        "# evaluated as a single value\n",
        "3**2\n",
        "True and False\n",
        "'dog' + 'toy'\n",
        "4 / (12 + 3.2) * 5 - 10\n",
        "\n",
        "# Statements do something (e.g. assign the value of an expression to a variable)\n",
        "import math\n",
        "result = 3**2\n"
      ],
      "metadata": {
        "id": "NoidHLe2l_h7"
      },
      "execution_count": null,
      "outputs": []
    },
    {
      "cell_type": "code",
      "metadata": {
        "id": "GO5KAVNxTknG",
        "colab": {
          "base_uri": "https://localhost:8080/"
        },
        "outputId": "4f0cdcb9-c53a-49b5-898a-dd91dcd06660"
      },
      "source": [
        "import math\n",
        "\n",
        "# Assignment statements link a variable to a Python object using `=`. \n",
        "# Nearly everything in Python is an object.\n",
        "x = 5\n",
        "my_var = 'Hello, World!'\n",
        "myVar = 12.6457 + math.pi\n",
        "var1 = True\n",
        "\n",
        "# Special case: when basic arithmetic is used to modify the value of a variable\n",
        "# and then assign the new value to the original variable \n",
        "x = x + 1\n",
        "\n",
        "# This operation can also be written using the following shortcut\n",
        "x += 1\n",
        "\n",
        "# Why does x = 7?\n",
        "x\n",
        "\n"
      ],
      "execution_count": null,
      "outputs": [
        {
          "output_type": "execute_result",
          "data": {
            "text/plain": [
              "7"
            ]
          },
          "metadata": {},
          "execution_count": 8
        }
      ]
    },
    {
      "cell_type": "markdown",
      "metadata": {
        "id": "2FvKbknqGXNR"
      },
      "source": [
        "It's very important to understand the difference between the identity operator `is` and the relational operator `==`. **They are different operations and using them incorrectly can lead to subtle, erroneous outputs in your analyses.** \n",
        "\n",
        "* `is` returns `True` if two variables refer to the same object (stored in memory). \n",
        "* `==` returns `True` if the objects referred to by the variables are equivalent in value."
      ]
    },
    {
      "cell_type": "code",
      "metadata": {
        "colab": {
          "base_uri": "https://localhost:8080/"
        },
        "id": "Q4wibmMwF6c9",
        "outputId": "47432a3c-f8c9-496f-e67a-18b73bf8c69f"
      },
      "source": [
        "from copy import copy\n",
        "\n",
        "# Here, both `a` and `b` point to same object in memory --> the list [1, 2, 3]\n",
        "a = [1, 2, 3]\n",
        "b = a\n",
        "\n",
        "print(b is a )  # `a` and `b` refer to the same object\n",
        "print(b == a)   # `a` and `b` have the same values\n",
        "\n",
        "# Because `a` and `b` both refer to the same list, changes to one affect the other\n",
        "a[0] = 'Oops we overwrote the original data'\n",
        "\n",
        "print(f'\\nWe made a change to a: {a}')\n",
        "print(f'But the changes also affect b: {b}')\n",
        "print('because they refer to the same object in memory.\\n')\n",
        "\n",
        "\n",
        "\n"
      ],
      "execution_count": null,
      "outputs": [
        {
          "output_type": "stream",
          "name": "stdout",
          "text": [
            "True\n",
            "True\n",
            "\n",
            "We made a change to a: ['Oops we overwrote the original data', 2, 3]\n",
            "But the changes also affect b: ['Oops we overwrote the original data', 2, 3]\n",
            "because they refer to the same object in memory.\n",
            "\n"
          ]
        }
      ]
    },
    {
      "cell_type": "code",
      "source": [
        "# Now, we make a copy of `a` and assign it to `b`. \n",
        "# Keep in mind that we need 2x memory because there are 2 separate objects\n",
        "a = [1, 2, 3]\n",
        "b = copy(a)\n",
        "\n",
        "print(b is a)  # `b` is NOT the same object as `a`\n",
        "print(b == a)  # `b` has the same values as `a`\n",
        "\n",
        "# Since `a` and `b` refer to different objects...\n",
        "a[0] = 'Oops we overwrote the original data'\n",
        "\n",
        "print(f'\\nWe made a change to a: {a}')\n",
        "print(f'This does NOT affect b: {b}')\n",
        "print('because they refer to 2 different objects in memory.')\n"
      ],
      "metadata": {
        "id": "GF-fjK1xiH8i",
        "colab": {
          "base_uri": "https://localhost:8080/"
        },
        "outputId": "905a3045-06fc-4bd0-bbb8-979ef35252ab"
      },
      "execution_count": null,
      "outputs": [
        {
          "output_type": "stream",
          "name": "stdout",
          "text": [
            "False\n",
            "True\n",
            "\n",
            "We made a change to a: ['Oops we overwrote the original data', 2, 3]\n",
            "This does NOT affect b: [1, 2, 3]\n",
            "because they refer to 2 different objects in memory.\n"
          ]
        }
      ]
    },
    {
      "cell_type": "markdown",
      "metadata": {
        "id": "Trc3PclKDXiq"
      },
      "source": [
        "### A.1c Membership Operators\n",
        "\n",
        "Recall that the membership operator `in` allows us to quickly check if an element is in a collection. List comprehension allows you to use a shorter syntax when you want to create a new list based on the values of an existing list depending on a specific condition. These two concepts can be combined into an efficient method for filtering or creating a new collection. You can use the same approach for Strings, Sets, and Dictionaries."
      ]
    },
    {
      "cell_type": "code",
      "metadata": {
        "colab": {
          "base_uri": "https://localhost:8080/"
        },
        "id": "kB4TcrcKDEPg",
        "outputId": "c002e6f2-10cc-4e51-a21f-acf1ccc6e9b5"
      },
      "source": [
        "# To quickly check if an object is present in a collection, use the membership \n",
        "# operator 'in'. As a conditional expression, this is formatted as `<part> in <whole>`\n",
        "# and evalutes to either TRUE or FALSE\n",
        "\n",
        "list1 = [0, 1, 2, 3, 4, 3, 2, 1, 0]\n",
        "print(3 in list1)\n",
        "\n",
        "name = 'Applied Machine Learning'\n",
        "search_term = 'Machine'\n",
        "print(search_term in name)\n",
        "\n"
      ],
      "execution_count": null,
      "outputs": [
        {
          "output_type": "stream",
          "name": "stdout",
          "text": [
            "True\n",
            "True\n"
          ]
        }
      ]
    },
    {
      "cell_type": "markdown",
      "metadata": {
        "id": "OMewAqH-Oql5"
      },
      "source": [
        "### A.1d Chaining and Relational Operators\n"
      ]
    },
    {
      "cell_type": "code",
      "metadata": {
        "colab": {
          "base_uri": "https://localhost:8080/"
        },
        "id": "NZp12iTcOrMb",
        "outputId": "8436bf46-7109-49b3-eb1d-c6a2c0e71303"
      },
      "source": [
        "n = 100\n",
        "\n",
        "# The comparison in Line 4...\n",
        "result1 = 1 < n and n < 200\n",
        "\n",
        "# Is the same as the comparison in Line 7.\n",
        "result2 = 1 < n < 200\n",
        "\n",
        "print(f'Line 4 evaluates to {result1}, and Line 7 evaluates to {result2}')\n",
        "\n"
      ],
      "execution_count": null,
      "outputs": [
        {
          "output_type": "stream",
          "name": "stdout",
          "text": [
            "Line 4 evaluates to True, and Line 7 evaluates to True\n"
          ]
        }
      ]
    },
    {
      "cell_type": "markdown",
      "metadata": {
        "id": "uEfTSRDY1Pr0"
      },
      "source": [
        "## A.2 Control or Logic Flow in Python code"
      ]
    },
    {
      "cell_type": "markdown",
      "metadata": {
        "id": "hVVyvE6D1bI8"
      },
      "source": [
        "### A.2a Review - IF/ELSE, WHILE, and FOR loops\n",
        "\n",
        "Python is an interpreted programming language. The code is executed sequentially line by line. However, there are control structures that can cause the Python interpreter to skip or repeat parts (AKA blocks) of code. The most common ones are `if/else` statements, `while` loops, and `for` loops. \n",
        "\n",
        "Let's use `if/else` as an example. \n",
        "\n",
        "* The first line always contains a comparison operation that evaulates to either `True` or `False`. \n",
        "* If `True`, the Python interpreter is directed to a new block of code (note the indentation!) and begins executing the new block. When it reaches the end of the new block, it returns to the next line in the original block. \n",
        "* If `False`, then the interpreter skips the indented block and continues executing the current block.\n",
        "\n",
        "Note: **Pay attention to the indentation of each line.** Blocks can be nested inside other blocks."
      ]
    },
    {
      "cell_type": "code",
      "source": [
        "from random import randint\n",
        "\n",
        "x = 8\n",
        "result = \"Thursday\"\n",
        "\n",
        "# If/Else Statement - careful with setting your condition: only 1 block will be\n",
        "# executed in an if/else\n",
        "if x > 0:\n",
        "    result = \"Friday\"\n",
        "\n",
        "\n",
        "if x > 5:\n",
        "    result = \"Saturday\"\n",
        "else:\n",
        "    result = \" Tuesday\"\n",
        "\n",
        "\n",
        "\n",
        "\n",
        "\n",
        "print(f\"Since x = {x}: homework is due on {result}\")\n"
      ],
      "metadata": {
        "id": "xLhkk-7YmwvK",
        "colab": {
          "base_uri": "https://localhost:8080/"
        },
        "outputId": "18fc14e3-feb6-45a4-946d-9b471212e274"
      },
      "execution_count": null,
      "outputs": [
        {
          "output_type": "stream",
          "name": "stdout",
          "text": [
            "Since x = 8: homework is due on Saturday\n"
          ]
        }
      ]
    },
    {
      "cell_type": "markdown",
      "source": [
        "Let's say we need to perform a task multiple times. Here, we can use `while` loops. \n",
        "\n",
        "* The first line always contains at least one comparison operation that evaulates to either `True` or `False`. \n",
        "* If `True`, the Python interpreter is directed to a new block of code (note the indentation!) and begins executing the new block. When it reaches the end of the new block, it jumps back to the first line and checks if the condition is still `TRUE`. \n",
        "* If `FALSE`, the interpreter skips the indented block and continues to the next line."
      ],
      "metadata": {
        "id": "jrfpU5wWm7WE"
      }
    },
    {
      "cell_type": "code",
      "source": [
        "from random import randint\n",
        "\n",
        "# While Loop - careful with setting your stop condition: infinite loops can run forever!\n",
        "x = randint(5, 10)\n",
        "y = 1\n",
        "while x > 0 and y < 6:\n",
        "    print(x, y)\n",
        "    x -= 1  # Here, we decrease x by 1\n",
        "    y += 2  # Here, we increase y by 2\n",
        "\n",
        "print('We have exited the While loop!')"
      ],
      "metadata": {
        "colab": {
          "base_uri": "https://localhost:8080/"
        },
        "id": "FFN9fqeTm4Sn",
        "outputId": "e6ab4c6b-7c6d-4da6-83e0-cb56c58f6856"
      },
      "execution_count": null,
      "outputs": [
        {
          "output_type": "stream",
          "name": "stdout",
          "text": [
            "6 1\n",
            "5 3\n",
            "4 5\n",
            "We have exited the While loop!\n"
          ]
        }
      ]
    },
    {
      "cell_type": "markdown",
      "source": [
        "`For` loops work in a similar fashion; however, they only loop a specified number of times rather than checking for a condition. \n",
        "\n",
        "* The first line specifies the number of times, usually by setting a range using the format `(start value, stop value, step size)`. \n",
        "* The stopping point is EXCLUDED. \n",
        "* If the step size isn't specified, a default value of 1 is used.\n",
        "\n",
        "For example, `range(5, 10)` would start at 5, increment by 1, and stop after reaching 9."
      ],
      "metadata": {
        "id": "JJI-so2uoVyt"
      }
    },
    {
      "cell_type": "code",
      "source": [
        "# For Loop - no conditional, will always enter the indented code block\n",
        "\n",
        "for x in range(10) \n",
        "    print(x)\n",
        "    \n",
        "# What happens if you don't specify the starting value?\n",
        "\n",
        "\n",
        "\n"
      ],
      "metadata": {
        "colab": {
          "base_uri": "https://localhost:8080/"
        },
        "id": "oRLGT8KNoUBU",
        "outputId": "50ff4896-aebb-486c-ba17-87b148046318"
      },
      "execution_count": null,
      "outputs": [
        {
          "output_type": "stream",
          "name": "stdout",
          "text": [
            "0\n",
            "1\n",
            "2\n",
            "3\n",
            "4\n",
            "5\n",
            "6\n",
            "7\n",
            "8\n",
            "9\n"
          ]
        }
      ]
    },
    {
      "cell_type": "markdown",
      "source": [
        "`For` loops can also be formated as:\n",
        "\n",
        "for `my_variable_name` in `my_data_structure`"
      ],
      "metadata": {
        "id": "F-8jvX9_tVkG"
      }
    },
    {
      "cell_type": "code",
      "source": [
        "# For loops can also be used to iterate through a collection of Python objects\n",
        "my_list = ['cat', 'dog', 1, 100, 50.5050]  # Here, we use a Python data structure called a `list`\n",
        "\n",
        "for x in my_list:  # Each object in the list is temporarily assigned to the variable `x`\n",
        "    print(x)       # Which allows us to \"do something\" with x inside the FOR loop\n"
      ],
      "metadata": {
        "colab": {
          "base_uri": "https://localhost:8080/"
        },
        "id": "kW6RwgDNqKSZ",
        "outputId": "550415e8-108b-4f51-8360-66dd100b04a4"
      },
      "execution_count": null,
      "outputs": [
        {
          "output_type": "stream",
          "name": "stdout",
          "text": [
            "cat\n",
            "dog\n",
            "1\n",
            "100\n",
            "50.505\n"
          ]
        }
      ]
    },
    {
      "cell_type": "code",
      "metadata": {
        "colab": {
          "base_uri": "https://localhost:8080/"
        },
        "id": "8TlLTuQf1iJx",
        "outputId": "743f892c-a4ff-495a-82e5-4d3b8d51b7c2"
      },
      "source": [
        "# This is a code snippet with 3 levels of indentation and 2 loops:\n",
        "# - WHILE block\n",
        "# - FOR block\n",
        "# - IF block\n",
        "# - ELIF block\n",
        "# - ELSE block\n",
        "\n",
        "x = 6\n",
        "print(f\"x = {x}: before WHILE\\n\")\n",
        "\n",
        "while x > 0:\n",
        "    for i in range(x):\n",
        "        if i > 3:\n",
        "            print(f\"x = {x}, i = {i}: IF block\")\n",
        "        elif i <= 3 and i > 1:\n",
        "            print(f\"x = {x}, i = {i}:   ELIF block\")\n",
        "        else:\n",
        "            print(f\"x = {x}, i = {i}:       ELSE block\")\n",
        "    print()\n",
        "    x -= 2\n",
        "print(f\"x = {x}: after WHILE\\n\")\n",
        "\n",
        "# Can you trace the logic of each block? \n",
        "# What happens if you change the conditional expressions?"
      ],
      "execution_count": null,
      "outputs": [
        {
          "output_type": "stream",
          "name": "stdout",
          "text": [
            "x = 6: before WHILE\n",
            "\n",
            "x = 6, i = 0:       ELSE block\n",
            "x = 6, i = 1:       ELSE block\n",
            "x = 6, i = 2:   ELIF block\n",
            "x = 6, i = 3:   ELIF block\n",
            "x = 6, i = 4: IF block\n",
            "x = 6, i = 5: IF block\n",
            "\n",
            "x = 4, i = 0:       ELSE block\n",
            "x = 4, i = 1:       ELSE block\n",
            "x = 4, i = 2:   ELIF block\n",
            "x = 4, i = 3:   ELIF block\n",
            "\n",
            "x = 2, i = 0:       ELSE block\n",
            "x = 2, i = 1:       ELSE block\n",
            "\n",
            "x = 0: after WHILE\n",
            "\n"
          ]
        }
      ]
    },
    {
      "cell_type": "markdown",
      "metadata": {
        "id": "kjI9RULz2Dnp"
      },
      "source": [
        "### A.2b Functions\n",
        "\n",
        "A function is a block of code which only runs when it is called. You can pass data (known as parameters, arguments, or input) into a function, which can then transform or modify the data and return an output or result.\n",
        "\n",
        "This further complicates how code is evaluated. Normally, this occurs sequentially line by line. As we saw earlier, that sequential order can be modified by conditional loops and IF/ELSE blocks. Now, if a function call is present, that causes code evaluation to jump to the function before returning to the next sequential line.\n",
        "\n",
        "For example, see the code block below. Code evaluation always starts on Line 1. But when we reach the function call on Line 24, which calls `gets_a_raise()`, the Python interperter jumps to Line 5 and begins evaluating the code until Line 7, after which, it jumps back to finish Line 24.\n",
        "\n",
        "\n",
        "---\n",
        "\n",
        "\n",
        "**Note**: There are several conventional methods for organizing Python code. The following is a commonly used for shorter pieces of code, like scripts:\n",
        "1. Import statements\n",
        "2. Definitions for custom classes and functions\n",
        "3. Variable assignments\n",
        "4. The bulk of the code\n",
        "\n",
        "The main reason for this is to enable easy identification and access to the parts that you might change later on."
      ]
    },
    {
      "cell_type": "code",
      "metadata": {
        "id": "mynaHlQH2JOy",
        "colab": {
          "base_uri": "https://localhost:8080/"
        },
        "outputId": "bf5f475e-e549-4025-84f3-3a5c36da00d9"
      },
      "source": [
        "# Import statements - usually doing this once per notebook is sufficient\n",
        "from random import randint\n",
        "\n",
        "# Sometimes we need a custom function\n",
        "def gets_a_raise(start_date):\n",
        "    print('\\tIn the function:', start_date)\n",
        "    return start_date < 2015\n",
        "\n",
        "\n",
        "# Define our variables\n",
        "employees = ['Alice', 'Bob', 'Charlie', 'Dave']\n",
        "hired = []\n",
        "\n",
        "# Generate our data\n",
        "for e in employees:\n",
        "    year = randint(1990, 2021)\n",
        "    hired.append(year)\n",
        "\n",
        "print(hired)\n",
        "\n",
        "# Apply our analysis\n",
        "for i, year in enumerate(hired):\n",
        "    print('For loop:', i)\n",
        "    if gets_a_raise(year):\n",
        "        print(employees[i], 'gets a raise.')\n",
        "    else:\n",
        "        print(employees[i], 'does not get a raise')\n",
        "    print('\\tOut of the function:', year)\n",
        "\n",
        "# Note the use of comments to outline what you are doing. This helps:\n",
        "#   (1) plan out how to approach coding\n",
        "#   (2) documents what you've done for future reference\n"
      ],
      "execution_count": null,
      "outputs": [
        {
          "output_type": "stream",
          "name": "stdout",
          "text": [
            "[1998, 1993, 1999, 2003]\n",
            "For loop: 0\n",
            "\tIn the function: 1998\n",
            "Alice gets a raise.\n",
            "\tOut of the function: 1998\n",
            "For loop: 1\n",
            "\tIn the function: 1993\n",
            "Bob gets a raise.\n",
            "\tOut of the function: 1993\n",
            "For loop: 2\n",
            "\tIn the function: 1999\n",
            "Charlie gets a raise.\n",
            "\tOut of the function: 1999\n",
            "For loop: 3\n",
            "\tIn the function: 2003\n",
            "Dave gets a raise.\n",
            "\tOut of the function: 2003\n"
          ]
        }
      ]
    },
    {
      "cell_type": "markdown",
      "metadata": {
        "id": "QV6-q9zu2Ty5"
      },
      "source": [
        "### A.2c Variable Scope\n",
        "\n",
        "When is a variable accessible by the code? This is determined by its **scope**.\n",
        "\n",
        "\n",
        "*   Built-in\n",
        "    * This is the widest scope (i.e. they can be called anywhere in any program without needing to be defined). \n",
        "    * Examples: the Python keywords, such as `def`, `while`, `True`, etc.\n",
        "\n",
        "*   Global scope\n",
        "    * Can be explicitly set by the keyword `global`\n",
        "    * Variables defined outside of any functions is accessible from anywhere within the specific program that defined it.\n",
        "    * Examples: 'employees' and 'hired' are global variables\n",
        "\n",
        "*   Enclosing scope\n",
        "    * This is specific to nested functions, which are rare, complex cases and we will not cover this.\n",
        "\n",
        "*   Local scope\n",
        "    * Variables defined within a function\n",
        "    * Only accessible during a function call\n",
        "\n",
        "![picture](https://drive.google.com/uc?id=1HgXTUWyG0C6w8eR9izk1Qr80_PmqYS5I)"
      ]
    },
    {
      "cell_type": "code",
      "metadata": {
        "id": "74uwLc1I3ZFR",
        "colab": {
          "base_uri": "https://localhost:8080/"
        },
        "outputId": "5e56b3d3-52e8-4e7f-89aa-e8ce120067f6"
      },
      "source": [
        "# Import statements - usually doing this once per notebook is sufficient\n",
        "# Keywords like `import`, `def`, `class` are built-in\n",
        "from random import randint\n",
        "\n",
        "# Sometimes we need a custom function\n",
        "def gets_a_raise(start_date):\n",
        "    #start_date = 800  # This is a local variable\n",
        "    print('\\tInside the function:', start_date)\n",
        "    return start_date < 2015\n",
        "\n",
        "\n",
        "# Define our variables. \n",
        "# These are global variables\n",
        "employees = ['Alice', 'Bob', 'Charlie', 'Dave']\n",
        "hired = []\n",
        "\n",
        "# Generate our data\n",
        "for e in employees:\n",
        "    year = randint(1990, 2021)\n",
        "    hired.append(year)\n",
        "\n",
        "print(hired)\n",
        "print()\n",
        "\n",
        "# Apply our \"analysis\"\n",
        "for i, year in enumerate(hired):\n",
        "    print('For loop:', i)\n",
        "    print(employees[i], 'gets a raise.' if gets_a_raise(year) else 'does not get a raise')\n",
        "    print('\\tOut of the function:', year)\n",
        "    print()\n",
        "\n",
        "# Remove the `#` from the beginning of Line 7.\n",
        "# What happens if you try to access the variable start_date outside of the function?\n",
        "# Can you access the variable `hired` inside the function?"
      ],
      "execution_count": null,
      "outputs": [
        {
          "output_type": "stream",
          "name": "stdout",
          "text": [
            "[2014, 2006, 1996, 2005]\n",
            "\n",
            "For loop: 0\n",
            "\tInside the function: 2014\n",
            "Alice gets a raise.\n",
            "\tOut of the function: 2014\n",
            "\n",
            "For loop: 1\n",
            "\tInside the function: 2006\n",
            "Bob gets a raise.\n",
            "\tOut of the function: 2006\n",
            "\n",
            "For loop: 2\n",
            "\tInside the function: 1996\n",
            "Charlie gets a raise.\n",
            "\tOut of the function: 1996\n",
            "\n",
            "For loop: 3\n",
            "\tInside the function: 2005\n",
            "Dave gets a raise.\n",
            "\tOut of the function: 2005\n",
            "\n"
          ]
        }
      ]
    },
    {
      "cell_type": "markdown",
      "metadata": {
        "id": "g4kc00ZtrHZq"
      },
      "source": [
        "## Part B. Exercises with Non-primitive Data Structures\n",
        "\n",
        "**Note**: Stuck at any point? Look up the following resource [Lists, Tuples, Sets, Dictionaries](https://learning.oreilly.com/library/view/python-for-data/9781491957653/ch03.html#tut_data_structures).\n",
        "\n",
        "Also, one of the key strengths of Python is the ability to use dynamic typing to transform data from one data structure to a more useful data structure. What are the key characteristics, features, and functions associated with each data structure?"
      ]
    },
    {
      "cell_type": "markdown",
      "metadata": {
        "id": "OXllKSRRdABk"
      },
      "source": [
        "### B.1 Lists\n",
        "**Note**: Be familiar with slicing as this will be important for handling data in basic Python strings, NumPy arrays, and Pandas DataFrames in later modules.\n",
        "\n",
        "![picture](https://drive.google.com/uc?id=1BbZQMwTyp6kg_ISVAY5sPnRBKWfrlaAx)\n"
      ]
    },
    {
      "cell_type": "code",
      "metadata": {
        "id": "uakAmIqPc11S",
        "colab": {
          "base_uri": "https://localhost:8080/"
        },
        "outputId": "1b5ce0d7-13b5-45c7-e538-38f7a4317a12"
      },
      "source": [
        "# A list is an ordered sequence of elements denoted by `[]`. \n",
        "list1 = [0, 1, 2, 3, 4, 5, 6, 7, 8, 9]\n",
        "\n",
        "# We can access each element by its index, which starts at 0 -> n.\n",
        "var1 = list1[0]\n",
        "print(f'Using indexing (Line 5), the first element is {var1}\\n')\n",
        "\n",
        "\n",
        "# What about negative indexing?\n",
        "var2 = list1[-1]\n",
        "print(f'Using negative indexing (Line 10), the last element is {var2}\\n')\n",
        "\n",
        "\n",
        "# Slicing a list - Access a range of elements from [start : stop)\n",
        "# Note: slicing INCLUDES the start index but EXCLUDES the end index.\n",
        "slice1 = list1[2:5]\n",
        "print(f'We can isolate part of a list via slicing (Line 16): {slice1}\\n')\n",
        "\n",
        "\n",
        "# If the slice starts at Index 0, the start position can be implicit\n",
        "slice2 = list1[:5]  # equivalent to `list1[0:5]\n",
        "\n",
        "# If the slice ends with the last index, the end position can be implicit\n",
        "slice3 = list1[5:]  # equivalent to `list1[5:10]'\n",
        "\n",
        "print(f'In special cases, the start or end index can be implied: ')\n",
        "print(f'See Line 21 for {slice2} which spans Index 0 through 4, excluding the end at Index 5')\n",
        "print(f'and Line 24 for {slice3} which spans Index 5 through the end.\\n')\n",
        "\n"
      ],
      "execution_count": null,
      "outputs": [
        {
          "output_type": "stream",
          "name": "stdout",
          "text": [
            "Using indexing (Line 5), the first element is 0\n",
            "\n",
            "Using negative indexing (Line 10), the last element is 9\n",
            "\n",
            "We can isolate part of a list via slicing (Line 16): [2, 3, 4]\n",
            "\n",
            "In special cases, the start or end index can be implied: \n",
            "See Line 21 for [0, 1, 2, 3, 4] which spans Index 0 through 4, excluding the end at Index 5\n",
            "and Line 24 for [5, 6, 7, 8, 9] which spans Index 5 through the end.\n",
            "\n"
          ]
        }
      ]
    },
    {
      "cell_type": "code",
      "metadata": {
        "colab": {
          "base_uri": "https://localhost:8080/"
        },
        "id": "dSprLdWXUzdz",
        "outputId": "0c25080d-75aa-4688-edd8-5e06db515993"
      },
      "source": [
        "list1 = [0, 1, 2, 3, 4, 5, 6, 7, 8, 9]\n",
        "\n",
        "# Slicing actually has a third value (step size), formatted [start : stop : step]\n",
        "print('To skip every other value:')\n",
        "skip_even = list1[::2]\n",
        "print(skip_even)\n",
        "\n",
        "\n",
        "# Using list1, how would you skip the even numbers?\n",
        "print('\\nWhat if we want the values in the odd indices:')\n",
        "\n",
        "skip_odd = list1[::]  # Modify this line\n",
        "print(skip_odd)\n",
        "\n",
        "\n",
        "# Negative indexing can be used to reverse the values in a list\n",
        "print('\\nTo quickly reverse a list, use negative indexing:')\n",
        "print(list1[::])  # What start, stop, and step values are implied here?\n",
        "print(list1[::-1])\n",
        "\n"
      ],
      "execution_count": null,
      "outputs": [
        {
          "output_type": "stream",
          "name": "stdout",
          "text": [
            "To skip every other value:\n",
            "[0, 2, 4, 6, 8]\n",
            "\n",
            "What if we want the values in the odd indices:\n",
            "[0, 1, 2, 3, 4, 5, 6, 7, 8, 9]\n",
            "\n",
            "To quickly reverse a list, use negative indexing:\n",
            "[0, 1, 2, 3, 4, 5, 6, 7, 8, 9]\n",
            "[9, 8, 7, 6, 5, 4, 3, 2, 1, 0]\n"
          ]
        }
      ]
    },
    {
      "cell_type": "code",
      "metadata": {
        "id": "Mg5P-QmpVMEh",
        "colab": {
          "base_uri": "https://localhost:8080/"
        },
        "outputId": "62f332d7-5b54-4f81-9742-6d3396a0a95d"
      },
      "source": [
        "list1 = [0, 1, 2, 3, 4, 5, 6, 7, 8, 9]\n",
        "list2 = ['a', 'b', 'c', 'd', 'e', 'f', 'g', 'h', 'i', 'j']\n",
        "\n",
        "# We can use FOR loops to iterate through the elements in a list.\n",
        "for item in list1:\n",
        "    if item % 2 != 0:\n",
        "        item += 100  # Do something to the element at index i\n",
        "print(list1, '\\n')\n",
        "\n",
        "\n",
        "# We can also iterate through a list by index. \n",
        "# Note: Python functions can be nested; they are evaluted from the inner most \n",
        "# function to the outer most function. The function `len()` is given `list1` as\n",
        "# an input. This returns the length of list1 (i.e. 4) which is then used as an \n",
        "# input for the function `range()`. This returns a sequence of integers from 0\n",
        "# to the input value, 4.\n",
        "for i in range(len(list1)):\n",
        "    if i % 2 == 1: list1[i] += 200\n",
        "print(list1, '\\n')  \n",
        "\n",
        "\n",
        "# Sometimes we need to access both the value and the index of an element, \n",
        "# usually for cross-referencing or indexing into another list. The `enumerate()`\n",
        "# function is a useful trick here:\n",
        "for i, item in enumerate(list1):\n",
        "    if 2 < item < 6:\n",
        "        print(f'At index {i}, the value in list1 is {item}')\n",
        "        print(f'and the corresponding value in list2 is {list2[i]}.\\n')\n",
        "\n",
        "\n",
        "# Points to ponder:\n",
        "# 1. Why is using `range(len(list))` better than using `range(4)`?\n",
        "# 2. Here, we chose to use a FOR loop. Could this be done using a WHILE loop?\n",
        "# 3. How can we do this in 1 line of code using list comprehension?\n"
      ],
      "execution_count": null,
      "outputs": [
        {
          "output_type": "stream",
          "name": "stdout",
          "text": [
            "[0, 1, 2, 3, 4, 5, 6, 7, 8, 9] \n",
            "\n",
            "[0, 201, 2, 203, 4, 205, 6, 207, 8, 209] \n",
            "\n",
            "At index 4, the value in list1 is 4\n",
            "and the corresponding value in list2 is e.\n",
            "\n"
          ]
        }
      ]
    },
    {
      "cell_type": "markdown",
      "metadata": {
        "id": "X5onHx0ak7Gg"
      },
      "source": [
        "\n",
        "\n",
        "---\n",
        "\n"
      ]
    },
    {
      "cell_type": "markdown",
      "metadata": {
        "id": "eB_R5gh4e7nj"
      },
      "source": [
        "#### Problem 1 (mild):\n",
        "\n",
        "Find the smallest number in the list. \n",
        "\n",
        "**Input:**\n",
        "\n",
        "```\n",
        "nums = [4, 16, -21, -49, 3, 821, 8, 27, -2, 74, -81, 0, 5]\n",
        "```\n",
        "\n",
        "**Expected Outputs:**\n",
        "\n",
        "```\n",
        "-81\n",
        "```"
      ]
    },
    {
      "cell_type": "code",
      "metadata": {
        "id": "SEOfF02YfTGC"
      },
      "source": [
        "# Note the keyword `def`. Write a function that RETURNS the smallest number in a list\n",
        "# Hint: Consider using a FOR or WHILE loop\n",
        "def find_smallest(my_list):\n",
        "    # Enter your code here\n",
        "    return  my_list.min()\n",
        "\n",
        "\n",
        "#------------------------\n",
        "# Now call your function using the list `nums` as a parameter\n",
        "nums = [4, 16, -21, -49, 3, 821, 8, 27, -2, 74, -81, 0, 3] \n",
        "\n"
      ],
      "execution_count": null,
      "outputs": []
    },
    {
      "cell_type": "markdown",
      "metadata": {
        "id": "KZjJmTozltbK"
      },
      "source": [
        "\n",
        "\n",
        "---\n",
        "\n"
      ]
    },
    {
      "cell_type": "markdown",
      "metadata": {
        "id": "ERUwTxhWfU6i"
      },
      "source": [
        "#### Problem 2 (medium):\n",
        "\n",
        "Given two lists, return a list of all elements that are common (without duplicates) between the two. \n",
        "\n",
        "**Input:**\n",
        "\n",
        "```\n",
        "a = [2, 15, 8, 10, 1, 18]\n",
        "b = [6, 2, 10, 19, 8, 4, 2, 20, 2]\n",
        "```\n",
        "\n",
        "**Expected Output:**\n",
        "```\n",
        "[2, 8, 10]\n",
        "```"
      ]
    },
    {
      "cell_type": "code",
      "metadata": {
        "id": "jL83qDV9hcy0"
      },
      "source": [
        "def common_ele(lista, listb):\n",
        "    # Enter your code here\n",
        "\n",
        "\n",
        "    \n",
        "    return\n",
        "\n",
        "\n",
        "#------------------------\n",
        "# Now call your function using the lists `a` and `b` as parameters\n",
        "a = [2, 15, 8, 10, 1, 18]\n",
        "b = [6, 2, 10, 19, 8, 4, 2, 20, 2]\n",
        "\n",
        "\n"
      ],
      "execution_count": null,
      "outputs": []
    },
    {
      "cell_type": "markdown",
      "metadata": {
        "id": "JRRhSg0Qlznv"
      },
      "source": [
        "\n",
        "\n",
        "---\n",
        "\n"
      ]
    },
    {
      "cell_type": "markdown",
      "metadata": {
        "id": "SfZuhVazhz9g"
      },
      "source": [
        "#### Problem 3 (spicy):\n",
        "For any given a list of characters, check if it is a palindrome or not.\n",
        "\n",
        "> Palindrome: A palindrome is a word, number, phrase, or other sequence of characters which reads the same backward as forward, such as _madam_, _racecar_.\n",
        "\n",
        "**Input:**\n",
        "\n",
        "```\n",
        "s1 = ['n', 'o', 'o', 'n']\n",
        "s2 = ['k', 'a', 'y', 'a', 'k']\n",
        "s3 = ['p', 'a', 'l', 'i', 'n', 'd', 'r', 'o', 'm', 'e']\n",
        "```\n",
        "\n",
        "**Expected Output:**\n",
        "\n",
        "```\n",
        "noon is a Palindrome\n",
        "kayak is a Palindrome\n",
        "palindrome is not a Palindrome\n",
        "```"
      ]
    },
    {
      "cell_type": "code",
      "metadata": {
        "id": "8vkcn6nehh4Z"
      },
      "source": [
        "# Either a WHILE or FOR loop can work here\n",
        "# Either print or return can work here\n",
        "# To concatenate all the strings in a list, use this: ''.join(my_list_here)\n",
        "def palindrome(input):\n",
        "    # Enter your code here\n",
        "\n",
        "\n",
        "    \n",
        "    return\n",
        "\n",
        "\n",
        "\n",
        "\n",
        "#------------------------\n",
        "# Now call your function using the inputs below\n",
        "s1 = ['n', 'o', 'o', 'n']\n",
        "s2 = ['k', 'a', 'y', 'a', 'k']\n",
        "s3 = ['p', 'a', 'l', 'i', 'n', 'd', 'r', 'o', 'm', 'e']\n",
        "\n",
        "\n",
        "\n",
        "\n",
        "\n"
      ],
      "execution_count": null,
      "outputs": []
    },
    {
      "cell_type": "markdown",
      "metadata": {
        "id": "5VzlmFGRL2cc"
      },
      "source": [
        "---\n",
        "### B.2 Sets\n"
      ]
    },
    {
      "cell_type": "code",
      "metadata": {
        "id": "zlHKHMOyzSDW",
        "colab": {
          "base_uri": "https://localhost:8080/"
        },
        "outputId": "baeb11c6-c895-4962-f7cb-e6e0bfab8d45"
      },
      "source": [
        "# A set is an unordered collection of UNIQUE elements denoted by `{}`. \n",
        "# Note: Sets are unordered; we cannot use an index to access an item.\n",
        "set1 = {'biology', 'chemistry'}\n",
        "set2 = {1999, 2000, '2021', '2050'}\n",
        "\n",
        "\n",
        "# We can add elements using `.add()`\n",
        "set1.add(2022)\n",
        "print(f'Add 2022: {set1}\\n')\n",
        "\n",
        "\n",
        "# We cannot concatenate sets because they are unordered, instead we union sets\n",
        "new_set = set1.union(set2)\n",
        "new_set\n"
      ],
      "execution_count": null,
      "outputs": [
        {
          "output_type": "stream",
          "name": "stdout",
          "text": [
            "Add 2022: {'chemistry', 'biology', 2022}\n",
            "\n"
          ]
        },
        {
          "output_type": "execute_result",
          "data": {
            "text/plain": [
              "{1999, 2000, '2021', 2022, '2050', 'biology', 'chemistry'}"
            ]
          },
          "metadata": {},
          "execution_count": 35
        }
      ]
    },
    {
      "cell_type": "code",
      "metadata": {
        "colab": {
          "base_uri": "https://localhost:8080/"
        },
        "id": "BI1lwPvSAg4A",
        "outputId": "23d5bd06-f9fe-4be2-8a06-c2bd9937a013"
      },
      "source": [
        "# If we know an element is in a set, we can explicitly remove it.\n",
        "if 2021 in set1:  # Recall the keyword 'in' from Operators\n",
        "    set1.remove(2021)\n",
        "    print(f'Remove 2021: {set1}\\n')\n",
        "else:\n",
        "    print('2021 was not found.\\n')  # Why didn't we find 2021?\n",
        "\n",
        "\n",
        "# Note: The IF/ELSE block above can be condensed using a ternary operator:\n",
        "print (f'Remove 2021: {set1}\\n' if 2021 in set1 else '2021 was not found.\\n')\n",
        "\n",
        "\n",
        "# Or we can randomly remove an element\n",
        "if len(set1) > 0:  \n",
        "    var = set1.pop()\n",
        "    print(f'We removed \\'{var}\\' from {set1}', '\\n')\n",
        "\n",
        "\n",
        "# Points to Ponder\n",
        "# 1. Why is it important to check if an element is in a collection before removing it?\n",
        "# 2. Why isn't `2021` found in the set? \n",
        "# 3. Why do we need to check the size/length of a collection before removing?\n"
      ],
      "execution_count": null,
      "outputs": [
        {
          "output_type": "stream",
          "name": "stdout",
          "text": [
            "2021 was not found.\n",
            "\n",
            "2021 was not found.\n",
            "\n",
            "We removed 'chemistry' from {'biology', 2022} \n",
            "\n"
          ]
        }
      ]
    },
    {
      "cell_type": "markdown",
      "metadata": {
        "id": "9nqaF3cBbjIG"
      },
      "source": [
        "---\n",
        "#### Problem 1 (mild): \n",
        "\n",
        "Given a list, check if it has duplicates. Hint: Consider type casting. What is a key feature of sets that is different from lists?\n",
        "\n",
        "**Input:**\n",
        "\n",
        "```\n",
        "b = [31, 11, 1, 9, 72, 4, 3, 20, 31]\n",
        "```\n",
        "\n",
        "**Expected Output:**\n",
        "```\n",
        "True\n",
        "```"
      ]
    },
    {
      "cell_type": "code",
      "metadata": {
        "id": "VX_29J8ucKXb"
      },
      "source": [
        "def has_duplicates(list1):\n",
        "    # Enter your code here\n",
        "\n",
        "\n",
        "    return \n",
        "\n",
        "#------------------------\n",
        "# Now call your function using the inputs below\n",
        "b = [31, 11, 1, 9, 72, 4, 3, 20, 31]\n",
        "\n"
      ],
      "execution_count": null,
      "outputs": []
    },
    {
      "cell_type": "markdown",
      "metadata": {
        "id": "i6vdiO0mU0eR"
      },
      "source": [
        "---\n",
        "#### Problem 2 (medium):\n",
        "The set `S` originally contained numbers from `1` to `n`, where `n` is the length of `nums`. \n",
        "\n",
        "As we were shifting our data from a set to a list, there was a data entry error: one number in `nums` was duplicated thus overwriting the original value. In this case, `3` was duplicated and the value `5` was lost. Note that the size of the set (cardinality) remains the same.\n",
        "\n",
        "Given the erroneous list `nums` and the original data in `s`, can you write a function that identifies the duplicated number and the missing number?\n",
        "\n",
        "**Input:**\n",
        "```\n",
        "s = {1, 2, 3, 4, 5}\n",
        "nums = [1, 2, 3, 3, 4]\n",
        "```\n",
        "**Expected Output:**\n",
        "\n",
        "```\n",
        "3 5\n",
        "```\n",
        "**Explanation**: The first number that you return is the number that got duplicated. In this case it was `3`. Now there will be two '3's and hence displacing the last number in the set. The number that it replaced was `5`.\n",
        "\n",
        "\n",
        "---\n",
        "\n",
        "\n",
        "**Note**: Your function should be a general solution (i.e. it should work on any set with the same type of error)\n",
        "```\n",
        "s = {1, 2, 3, 4, 5, 6, 7, 8, 9, 10, 11}\n",
        "nums = [1, 2, 3, 4, 5, 6, 6, 7, 9, 10, 11]\n",
        "```\n",
        "**Expected Output:**\n",
        "\n",
        "```\n",
        "6 8\n",
        "```\n",
        "\n"
      ]
    },
    {
      "cell_type": "code",
      "metadata": {
        "id": "0WlNDYfVUzkr"
      },
      "source": [
        "# Convert list nums into a another set nums\n",
        "# Find disjoint or s-nums and return the element in s that is missing in nums\n",
        "# To find the duplicated number use a version of Problem 3 of Lists.\n",
        "\n",
        "def fix_nums(set1, list1):\n",
        "    # Enter your code here, Lines 7-8 are placeholders\n",
        "    duplicate = None\n",
        "    displaced = None\n",
        "\n",
        "\n",
        "\n",
        "    # Note: you can return multiple objects\n",
        "    return duplicate, displaced\n",
        "\n",
        "#------------------------\n",
        "# Now call your function using the inputs below\n",
        "s = {1, 2, 3, 4, 5}\n",
        "nums = [1, 2, 3, 3, 4]\n",
        "\n",
        "# Note: you'll need to assign 2 variables to this function\n",
        "dup, dis = fix_nums(s, nums)\n"
      ],
      "execution_count": null,
      "outputs": []
    },
    {
      "cell_type": "markdown",
      "metadata": {
        "id": "6jwH1_L7SAYi"
      },
      "source": [
        "---\n",
        "#### Optional - Problem 3 (extra spicy): \n",
        "(Extension of Problem 2)\n",
        "\n",
        "Given a unordered list containing numbers repeating exactly _**K**_ times and one unique number, find that unique number.\n",
        "\n",
        "For example: for K = 2, and for the given list below\n",
        "```\n",
        "list1 = [5, 6, 9, 6, 10, 5, 10]\n",
        "```\n",
        "`5`, `6`, and `10` repeat exactly `K = 2` times, but `9` is unique. So `9` is the answer.\n",
        "\n",
        "**Input:**\n",
        "```\n",
        "K = 4\n",
        "list1 = [5, 23, 6, 10, 10, 411, 23, 6, 11, 23, 6, 5, 411, 10, 2, 5, 10, 2, 2, 23, 6, 5, 411, 411, 2]\n",
        "```\n",
        "\n",
        "**Expected Output:**\n",
        "```\n",
        "11\n",
        "```\n",
        "\n",
        "> Hint: How can you leverage the fact that duplicate numbers always repeat exactly K times ?"
      ]
    },
    {
      "cell_type": "code",
      "metadata": {
        "id": "r7TSIG0eL7Mi"
      },
      "source": [
        "# K * SUM(SET(LIST1)) - SUM(LIST1) = K-1*UNIQUE_NUMBER\n",
        "# UNIQUE_NUMBER = (K * SUM(SET(LIST1)) - SUM(LIST1)) / K-1\n",
        "\n",
        "# First find sum of elements in list1 \n",
        "# Then convert list1 to a set \n",
        "# Use the inbuilt function \"sum()\" to get the total value of the elements in set\n",
        "# Compute the unique_number using the formula above\n",
        "def find_unique(k, my_list):\n",
        "    # Enter your code here\n",
        "\n",
        "\n",
        "    return\n",
        "\n",
        "#------------------------\n",
        "# Now call your function using the inputs below\n",
        "K = 4\n",
        "list1 = [5, 23, 6, 10, 10, 411, 23, 6, 11, 23, 6, 5, 411, 10, 2, 5, 10, 2, 2, 23, 6, 5, 411, 411, 2]\n",
        "\n",
        "\n",
        "\n"
      ],
      "execution_count": null,
      "outputs": []
    },
    {
      "cell_type": "markdown",
      "metadata": {
        "id": "O5viiMOEcg8J"
      },
      "source": [
        "### B.3 Tuples"
      ]
    },
    {
      "cell_type": "markdown",
      "metadata": {
        "id": "sYALomg3jpuU"
      },
      "source": [
        "#### Problem 1 (mild):\n",
        "\n",
        "Write a function to find the tuple by searching for `n` in a given list.\n",
        "\n",
        "**Input:**\n",
        "```\n",
        "n = 5.12\n",
        "l = [('item1', 1.20), ('item2', 5.12), ('item3', 4.58)]\n",
        "```\n",
        "\n",
        "**Expected Output:**\n",
        "```\n",
        "('item2', 5.12)\n",
        "```"
      ]
    },
    {
      "cell_type": "code",
      "metadata": {
        "id": "Bpx7A_uZkMWM"
      },
      "source": [
        "# Loop over the list `l` \n",
        "# Check if the second element matches n\n",
        "# If it matches return that tuple.\n",
        "\n",
        "def find_n(list1, find_me):\n",
        "\n",
        "    return\n",
        "\n",
        "\n",
        "#------------------------\n",
        "# Now call your function using the inputs below\n",
        "n = 5.12\n",
        "l = [('item1', 1.20), ('item2', 5.12), ('item3', 4.58)]\n",
        "\n",
        "\n"
      ],
      "execution_count": null,
      "outputs": []
    },
    {
      "cell_type": "markdown",
      "metadata": {
        "id": "UNea-QOLkNv_"
      },
      "source": [
        "#### Problem 2 (medium):\n",
        "Write a function to reverse a tuple\n",
        "\n",
        "**Input:**\n",
        "\n",
        "```\n",
        "tup = (13, 24, 1, 5, 18)\n",
        "```\n",
        "\n",
        "**Output:**\n",
        "```\n",
        "tup = (18, 5, 1, 24, 13)\n",
        "```"
      ]
    },
    {
      "cell_type": "code",
      "metadata": {
        "id": "Lx_ukilPkqdZ"
      },
      "source": [
        "# Note: this should work with tuples of any length\n",
        "# Note: a key feature of tuples is that they are IMMUTABLE\n",
        "\n",
        "def flip(tuple1):\n",
        "\n",
        "    return\n",
        "\n",
        "#------------------------\n",
        "# Now call your function using the inputs below\n",
        "tup = (13, 24, 1, 5, 18)\n",
        "\n",
        "\n",
        "\n"
      ],
      "execution_count": null,
      "outputs": []
    },
    {
      "cell_type": "markdown",
      "metadata": {
        "id": "qvImDIYqksTE"
      },
      "source": [
        "#### Optional - Problem 3 (extra spicy):\n",
        "\n",
        "Given a list of integers, and a number, find all good triplets.\n",
        "\n",
        "A triplet `(l[i], l[j], l[k])` is **good** if the following conditions are true:\n",
        "\n",
        "- `0 <= i < j < k <= len(l)`\n",
        "- `|l[i] - l[j]| <= n`\n",
        "- `|l[j] - l[k]| <= n`\n",
        "- `|l[i] - l[k]| <= n` \n",
        "\n",
        "where `n` denotes the absolute value.\n",
        "\n",
        "Return a tuple of all the **good** triples.\n",
        "\n",
        "Input:\n",
        "\n",
        "```\n",
        "n = 3\n",
        "l = [4, 1, 0, 1, 7, 9]\n",
        "```\n",
        "\n",
        "Expected Output:\n",
        "\n",
        "```\n",
        "[(4, 1, 1), (1, 0, 1)]\n",
        "```\n"
      ]
    },
    {
      "cell_type": "code",
      "metadata": {
        "id": "_WijvuT3oEYp"
      },
      "source": [
        "# Use 3 nested for loops with indices i, j, k\n",
        "# Within each loop, access the elements of list list[i], list[j],list[k]\n",
        "# Check if the triplet conditions are met\n",
        "# Identify the good i,j,k combinations and form tuples\n",
        "# Add them to a list to return\n",
        "\n",
        "def good_trip(abs_value, list1):\n",
        "    # Enter your code here\n",
        "\n",
        "\n",
        "    return\n",
        "\n",
        "#------------------------\n",
        "# Now call your function using the inputs below\n",
        "n = 2\n",
        "l = [3, 0, 1, 1, 9, 7]\n",
        "\n",
        "\n"
      ],
      "execution_count": null,
      "outputs": []
    },
    {
      "cell_type": "markdown",
      "metadata": {
        "id": "wraXtFPprRxi"
      },
      "source": [
        "### B.4 Dictionaries"
      ]
    },
    {
      "cell_type": "code",
      "metadata": {
        "id": "yHzai3XNH3VO",
        "colab": {
          "base_uri": "https://localhost:8080/"
        },
        "outputId": "ec4d64db-0cd2-4748-c611-12d875f46618"
      },
      "source": [
        "# A dictionary is an indexed collection of key:value pairs denoted by {}\n",
        "my_dict =\t{   # key: value\n",
        "  \"coffee\": \"latte\",\n",
        "  \"flavor\": \"peppermint\",\n",
        "  \"size\": \"extra large\"\n",
        "}\n",
        "\n",
        "# We can access a value by its key\n",
        "x = my_dict[\"coffee\"]\n",
        "print(x)\n",
        "\n",
        "# Values can be changed in a similar manner\n",
        "my_dict[\"coffee\"] = \"espresso\"\n",
        "print(my_dict)\n",
        "\n",
        "# And new elements can be added\n",
        "my_dict[\"refill\"] = \"yes\"\n",
        "print(my_dict)\n",
        "\n",
        "# Or removed... what should be done before removing something from a collection?\n",
        "my_dict.pop(\"size\")\n",
        "print(my_dict)\n",
        "\n"
      ],
      "execution_count": null,
      "outputs": [
        {
          "output_type": "stream",
          "name": "stdout",
          "text": [
            "latte\n",
            "{'coffee': 'espresso', 'flavor': 'peppermint', 'size': 'extra large'}\n",
            "{'coffee': 'espresso', 'flavor': 'peppermint', 'size': 'extra large', 'refill': 'yes'}\n",
            "{'coffee': 'espresso', 'flavor': 'peppermint', 'refill': 'yes'}\n"
          ]
        }
      ]
    },
    {
      "cell_type": "code",
      "metadata": {
        "id": "2OayCWpHKBX0",
        "colab": {
          "base_uri": "https://localhost:8080/"
        },
        "outputId": "be25d809-2476-4d16-f84a-fb55cd176726"
      },
      "source": [
        "# Note: For dictionaries, we need to assign 2 variables: the first for the key\n",
        "# and the second for the value.\n",
        "for x, y in my_dict.items():\n",
        "  print(x, y) \n",
        "\n",
        "\n"
      ],
      "execution_count": null,
      "outputs": [
        {
          "output_type": "stream",
          "name": "stdout",
          "text": [
            "coffee espresso\n",
            "flavor peppermint\n",
            "refill yes\n"
          ]
        }
      ]
    },
    {
      "cell_type": "markdown",
      "metadata": {
        "id": "L4Ri7If6rWa4"
      },
      "source": [
        "#### Problem 1 (mild):\n",
        "\n",
        "Convert the two lists into a dictionary.\n",
        "\n",
        "**Input:**\n",
        "```\n",
        "keys = ['alpha', 'beta', 'charlie']\n",
        "values = ['a', 'b', 'c']\n",
        "```\n",
        "**Expected Output:**\n",
        "\n",
        "```\n",
        "d = {'alpha': 'a', 'beta': 'b', 'charlie': 'c'}\n",
        "```\n"
      ]
    },
    {
      "cell_type": "code",
      "metadata": {
        "id": "TDwb9dVmsBPh"
      },
      "source": [
        "# You can use function `zip()` to create key-value tuple pairs\n",
        "# Create an empty dictionary\n",
        "# Use a FOR loop to fill the dictionary with values\n",
        "\n",
        "# No need for a function, just write a code snippet for this question\n",
        "keys = ['alpha', 'beta', 'charlie']\n",
        "values = ['a', 'b', 'c']\n",
        "\n",
        "\n",
        "\n",
        "\n",
        "\n"
      ],
      "execution_count": null,
      "outputs": []
    },
    {
      "cell_type": "markdown",
      "metadata": {
        "id": "IJxNjmYMsVWf"
      },
      "source": [
        "#### Problem 2 (medium):\n",
        "\n",
        "Write a function `histogram()` that takes a string and builds a frequency listing of the characters contained in it. Represent the frequency listing as a Python dictionary and print the in sorted order on 'key'.\n",
        "\n",
        "Input:\n",
        "```\n",
        "s = \"oneredpaperclip\"\n",
        "```\n",
        "Output:\n",
        "```\n",
        "{'o': 1, 'n': 1, 'e': 3, 'r': 2, 'd': 1, 'p': 3, 'a': 1, 'c': 1, 'l': 1, 'i': 1}\n",
        "```"
      ]
    },
    {
      "cell_type": "code",
      "metadata": {
        "id": "I0rSPgPZtDFD"
      },
      "source": [
        "# Collect all characters from string\n",
        "# Count them\n",
        "# Create the dictionary\n",
        "# Enter the keys as letters and numbers as values. \n",
        "\n",
        "def histogram(string1):\n",
        "    # Enter your code here\n",
        "\n",
        "\n",
        "    return\n",
        "\n",
        "\n",
        "#------------------------\n",
        "# Now call your function using the input below\n",
        "s = \"oneredpaperclip\"\n",
        "\n",
        "\n",
        "\n",
        "\n"
      ],
      "execution_count": null,
      "outputs": []
    },
    {
      "cell_type": "markdown",
      "metadata": {
        "id": "xCefsGn2TTee"
      },
      "source": [
        "\n",
        "\n",
        "---\n",
        "\n",
        "\n",
        "# Python 101: Putting it all together\n",
        "\n",
        "\n",
        "---\n",
        "\n",
        "\n",
        "We noted that Python:\n",
        "\n",
        "\n",
        "1.   is object-oriented\n",
        "2.   encourages code modularity\n",
        "3.   allows dynamic typing\n",
        "4.   allows dynamic binding\n",
        "\n",
        "**But what does all this really mean in practice?**\n"
      ]
    },
    {
      "cell_type": "code",
      "metadata": {
        "id": "ttg5YC20TH8a",
        "colab": {
          "base_uri": "https://localhost:8080/"
        },
        "outputId": "e056bdff-0db9-4ac6-f0eb-b5b98a11eb4c"
      },
      "source": [
        "# Almost everything in Python is an object, meaning variables, function, data \n",
        "# structures, etc. can each be treated as one 'blob' without worrying about its\n",
        "# parts. The inputs set1, list2, and the basic string3 are all objects. \n",
        "set1 = {n * 3 for n in range(20000, 200000, 7) if n % 6 == 0}\n",
        "list2 = [m + 'no' for m in 'bibbity bobitty boo']\n",
        "string3 = 'racecar'\n",
        "s1 = ['n', 'o', 'o', 'n']\n",
        "s2 = ['k', 'a', 'y', 'a', 'k']\n",
        "s3 = ['p', 'a', 'l', 'i', 'n', 'd', 'r', 'o', 'm', 'e']\n",
        "\n",
        "# I can then create a list (another object) and populate it with these datasets\n",
        "# without needing to consider the individual elements of each.\n",
        "my_inputs = [set1, list2, string3, s1, s2, s3]\n",
        "\n",
        "# An example of code modularity is grouping all the palindrome code into a single\n",
        "# function. Here's a more complex palindrome function that can handle multiple \n",
        "# input types:\n",
        "def palindrome(input):\n",
        "    exit_flag = False\n",
        "    for item in input:\n",
        "        if type(item) is not str:  # Dynamic typing allows conversion between data structures\n",
        "            item = str(item)\n",
        "        if len(item) == 1: \n",
        "            item, exit_flag = input, True  # Dynamic binding allows (re-)assignment \"on-the-fly\"\n",
        "        if item == item[::-1]: \n",
        "            print(item if type(item) is str else ''.join(item), 'is a Palindrome')\n",
        "        if exit_flag: break\n",
        "    print()\n",
        "\n",
        "# Putting this all together, we can write flexible code that scales efficiently  \n",
        "# with data. The list `my_inputs` could contain hundreds of different data points. \n",
        "# Instead of having to write code explicitly for each input, we just need 3 lines. \n",
        "for n, input in enumerate(my_inputs):\n",
        "    print(f'Dataset {n+1} of type {type(input)} contains {len(input)} items')\n",
        "    palindrome(input)\n",
        "\n",
        "\n",
        "# In the next modules, we'll cover advanced data structures that scale even more \n",
        "# efficiently with \"Big Data\" (e.g. NumPy arrays and Pandas DataFrames). \n",
        "\n"
      ],
      "execution_count": null,
      "outputs": [
        {
          "output_type": "stream",
          "name": "stdout",
          "text": [
            "Dataset 1 of type <class 'set'> contains 4286 items\n",
            "477774 is a Palindrome\n",
            "85158 is a Palindrome\n",
            "225522 is a Palindrome\n",
            "62226 is a Palindrome\n",
            "87678 is a Palindrome\n",
            "64746 is a Palindrome\n",
            "450054 is a Palindrome\n",
            "\n",
            "Dataset 2 of type <class 'list'> contains 19 items\n",
            "ono is a Palindrome\n",
            "ono is a Palindrome\n",
            "ono is a Palindrome\n",
            "\n",
            "Dataset 3 of type <class 'str'> contains 7 items\n",
            "racecar is a Palindrome\n",
            "\n",
            "Dataset 4 of type <class 'list'> contains 4 items\n",
            "noon is a Palindrome\n",
            "\n",
            "Dataset 5 of type <class 'list'> contains 5 items\n",
            "kayak is a Palindrome\n",
            "\n",
            "Dataset 6 of type <class 'list'> contains 10 items\n",
            "\n"
          ]
        }
      ]
    }
  ]
}